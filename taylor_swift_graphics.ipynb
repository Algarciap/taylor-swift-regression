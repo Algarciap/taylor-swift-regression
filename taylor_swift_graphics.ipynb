{
 "cells": [
  {
   "cell_type": "code",
   "execution_count": 15,
   "metadata": {},
   "outputs": [],
   "source": [
    "import numpy as np\n",
    "import pandas as pd\n",
    "import seaborn as sns\n",
    "from seaborn import lmplot\n",
    "from seaborn import kdeplot\n",
    "from seaborn import distplot\n",
    "import matplotlib.pyplot as plt\n",
    "import re"
   ]
  },
  {
   "cell_type": "code",
   "execution_count": 16,
   "metadata": {},
   "outputs": [
    {
     "data": {
      "text/html": [
       "<div>\n",
       "<style scoped>\n",
       "    .dataframe tbody tr th:only-of-type {\n",
       "        vertical-align: middle;\n",
       "    }\n",
       "\n",
       "    .dataframe tbody tr th {\n",
       "        vertical-align: top;\n",
       "    }\n",
       "\n",
       "    .dataframe thead th {\n",
       "        text-align: right;\n",
       "    }\n",
       "</style>\n",
       "<table border=\"1\" class=\"dataframe\">\n",
       "  <thead>\n",
       "    <tr style=\"text-align: right;\">\n",
       "      <th></th>\n",
       "      <th>name</th>\n",
       "      <th>album</th>\n",
       "      <th>artist</th>\n",
       "      <th>release_date</th>\n",
       "      <th>length</th>\n",
       "      <th>popularity</th>\n",
       "      <th>danceability</th>\n",
       "      <th>acousticness</th>\n",
       "      <th>energy</th>\n",
       "      <th>instrumentalness</th>\n",
       "      <th>liveness</th>\n",
       "      <th>loudness</th>\n",
       "      <th>speechiness</th>\n",
       "      <th>valence</th>\n",
       "      <th>tempo</th>\n",
       "    </tr>\n",
       "  </thead>\n",
       "  <tbody>\n",
       "    <tr>\n",
       "      <th>0</th>\n",
       "      <td>Tim McGraw</td>\n",
       "      <td>Taylor Swift</td>\n",
       "      <td>Taylor Swift</td>\n",
       "      <td>2006-10-24</td>\n",
       "      <td>232106</td>\n",
       "      <td>49</td>\n",
       "      <td>0.580</td>\n",
       "      <td>0.575</td>\n",
       "      <td>0.491</td>\n",
       "      <td>0.0</td>\n",
       "      <td>0.1210</td>\n",
       "      <td>-6.462</td>\n",
       "      <td>0.0251</td>\n",
       "      <td>0.425</td>\n",
       "      <td>76.009</td>\n",
       "    </tr>\n",
       "    <tr>\n",
       "      <th>1</th>\n",
       "      <td>Picture To Burn</td>\n",
       "      <td>Taylor Swift</td>\n",
       "      <td>Taylor Swift</td>\n",
       "      <td>2006-10-24</td>\n",
       "      <td>173066</td>\n",
       "      <td>54</td>\n",
       "      <td>0.658</td>\n",
       "      <td>0.173</td>\n",
       "      <td>0.877</td>\n",
       "      <td>0.0</td>\n",
       "      <td>0.0962</td>\n",
       "      <td>-2.098</td>\n",
       "      <td>0.0323</td>\n",
       "      <td>0.821</td>\n",
       "      <td>105.586</td>\n",
       "    </tr>\n",
       "    <tr>\n",
       "      <th>2</th>\n",
       "      <td>Teardrops On My Guitar - Radio Single Remix</td>\n",
       "      <td>Taylor Swift</td>\n",
       "      <td>Taylor Swift</td>\n",
       "      <td>2006-10-24</td>\n",
       "      <td>203040</td>\n",
       "      <td>59</td>\n",
       "      <td>0.621</td>\n",
       "      <td>0.288</td>\n",
       "      <td>0.417</td>\n",
       "      <td>0.0</td>\n",
       "      <td>0.1190</td>\n",
       "      <td>-6.941</td>\n",
       "      <td>0.0231</td>\n",
       "      <td>0.289</td>\n",
       "      <td>99.953</td>\n",
       "    </tr>\n",
       "    <tr>\n",
       "      <th>3</th>\n",
       "      <td>A Place in this World</td>\n",
       "      <td>Taylor Swift</td>\n",
       "      <td>Taylor Swift</td>\n",
       "      <td>2006-10-24</td>\n",
       "      <td>199200</td>\n",
       "      <td>49</td>\n",
       "      <td>0.576</td>\n",
       "      <td>0.051</td>\n",
       "      <td>0.777</td>\n",
       "      <td>0.0</td>\n",
       "      <td>0.3200</td>\n",
       "      <td>-2.881</td>\n",
       "      <td>0.0324</td>\n",
       "      <td>0.428</td>\n",
       "      <td>115.028</td>\n",
       "    </tr>\n",
       "    <tr>\n",
       "      <th>4</th>\n",
       "      <td>Cold As You</td>\n",
       "      <td>Taylor Swift</td>\n",
       "      <td>Taylor Swift</td>\n",
       "      <td>2006-10-24</td>\n",
       "      <td>239013</td>\n",
       "      <td>50</td>\n",
       "      <td>0.418</td>\n",
       "      <td>0.217</td>\n",
       "      <td>0.482</td>\n",
       "      <td>0.0</td>\n",
       "      <td>0.1230</td>\n",
       "      <td>-5.769</td>\n",
       "      <td>0.0266</td>\n",
       "      <td>0.261</td>\n",
       "      <td>175.558</td>\n",
       "    </tr>\n",
       "  </tbody>\n",
       "</table>\n",
       "</div>"
      ],
      "text/plain": [
       "                                          name         album        artist  \\\n",
       "0                                   Tim McGraw  Taylor Swift  Taylor Swift   \n",
       "1                              Picture To Burn  Taylor Swift  Taylor Swift   \n",
       "2  Teardrops On My Guitar - Radio Single Remix  Taylor Swift  Taylor Swift   \n",
       "3                        A Place in this World  Taylor Swift  Taylor Swift   \n",
       "4                                  Cold As You  Taylor Swift  Taylor Swift   \n",
       "\n",
       "  release_date  length  popularity  danceability  acousticness  energy  \\\n",
       "0   2006-10-24  232106          49         0.580         0.575   0.491   \n",
       "1   2006-10-24  173066          54         0.658         0.173   0.877   \n",
       "2   2006-10-24  203040          59         0.621         0.288   0.417   \n",
       "3   2006-10-24  199200          49         0.576         0.051   0.777   \n",
       "4   2006-10-24  239013          50         0.418         0.217   0.482   \n",
       "\n",
       "   instrumentalness  liveness  loudness  speechiness  valence    tempo  \n",
       "0               0.0    0.1210    -6.462       0.0251    0.425   76.009  \n",
       "1               0.0    0.0962    -2.098       0.0323    0.821  105.586  \n",
       "2               0.0    0.1190    -6.941       0.0231    0.289   99.953  \n",
       "3               0.0    0.3200    -2.881       0.0324    0.428  115.028  \n",
       "4               0.0    0.1230    -5.769       0.0266    0.261  175.558  "
      ]
     },
     "execution_count": 16,
     "metadata": {},
     "output_type": "execute_result"
    }
   ],
   "source": [
    "df = pd.read_csv('spotify_taylorswift.csv', index_col= 0)\n",
    "df.head(5)"
   ]
  },
  {
   "cell_type": "markdown",
   "metadata": {},
   "source": [
    "### Mini EDA"
   ]
  },
  {
   "cell_type": "code",
   "execution_count": 17,
   "metadata": {},
   "outputs": [],
   "source": [
    "df = df.round(2)        #redondeamos a dos decimales para no tener tanto nº"
   ]
  },
  {
   "cell_type": "code",
   "execution_count": 18,
   "metadata": {},
   "outputs": [],
   "source": [
    "df.drop('instrumentalness', axis=1, inplace=True)       #eliminamos esa columna porque todos sus valores son 0.0"
   ]
  },
  {
   "cell_type": "markdown",
   "metadata": {},
   "source": [
    " - Creamos un nuevo df uniendo popularity y album para ver la media de popularidad de cada album"
   ]
  },
  {
   "cell_type": "code",
   "execution_count": 21,
   "metadata": {},
   "outputs": [],
   "source": [
    "album_popularity = pd.DataFrame(df['popularity'].groupby(df['album']).mean())"
   ]
  },
  {
   "cell_type": "code",
   "execution_count": 23,
   "metadata": {},
   "outputs": [
    {
     "data": {
      "text/html": [
       "<div>\n",
       "<style scoped>\n",
       "    .dataframe tbody tr th:only-of-type {\n",
       "        vertical-align: middle;\n",
       "    }\n",
       "\n",
       "    .dataframe tbody tr th {\n",
       "        vertical-align: top;\n",
       "    }\n",
       "\n",
       "    .dataframe thead th {\n",
       "        text-align: right;\n",
       "    }\n",
       "</style>\n",
       "<table border=\"1\" class=\"dataframe\">\n",
       "  <thead>\n",
       "    <tr style=\"text-align: right;\">\n",
       "      <th></th>\n",
       "      <th>album</th>\n",
       "      <th>popularity</th>\n",
       "    </tr>\n",
       "  </thead>\n",
       "  <tbody>\n",
       "    <tr>\n",
       "      <th>0</th>\n",
       "      <td>1989 (Deluxe)</td>\n",
       "      <td>54.421053</td>\n",
       "    </tr>\n",
       "    <tr>\n",
       "      <th>1</th>\n",
       "      <td>Fearless (Taylor's Version)</td>\n",
       "      <td>65.576923</td>\n",
       "    </tr>\n",
       "    <tr>\n",
       "      <th>2</th>\n",
       "      <td>Lover</td>\n",
       "      <td>72.111111</td>\n",
       "    </tr>\n",
       "    <tr>\n",
       "      <th>3</th>\n",
       "      <td>Red (Deluxe Edition)</td>\n",
       "      <td>60.500000</td>\n",
       "    </tr>\n",
       "    <tr>\n",
       "      <th>4</th>\n",
       "      <td>Speak Now (Deluxe Package)</td>\n",
       "      <td>49.727273</td>\n",
       "    </tr>\n",
       "    <tr>\n",
       "      <th>5</th>\n",
       "      <td>Taylor Swift</td>\n",
       "      <td>50.133333</td>\n",
       "    </tr>\n",
       "    <tr>\n",
       "      <th>6</th>\n",
       "      <td>evermore (deluxe version)</td>\n",
       "      <td>65.470588</td>\n",
       "    </tr>\n",
       "    <tr>\n",
       "      <th>7</th>\n",
       "      <td>folklore (deluxe version)</td>\n",
       "      <td>62.647059</td>\n",
       "    </tr>\n",
       "    <tr>\n",
       "      <th>8</th>\n",
       "      <td>reputation</td>\n",
       "      <td>71.866667</td>\n",
       "    </tr>\n",
       "  </tbody>\n",
       "</table>\n",
       "</div>"
      ],
      "text/plain": [
       "                         album  popularity\n",
       "0                1989 (Deluxe)   54.421053\n",
       "1  Fearless (Taylor's Version)   65.576923\n",
       "2                        Lover   72.111111\n",
       "3         Red (Deluxe Edition)   60.500000\n",
       "4   Speak Now (Deluxe Package)   49.727273\n",
       "5                 Taylor Swift   50.133333\n",
       "6    evermore (deluxe version)   65.470588\n",
       "7    folklore (deluxe version)   62.647059\n",
       "8                   reputation   71.866667"
      ]
     },
     "execution_count": 23,
     "metadata": {},
     "output_type": "execute_result"
    }
   ],
   "source": [
    "album_popularity.reset_index()"
   ]
  },
  {
   "cell_type": "markdown",
   "metadata": {},
   "source": [
    "### Gráficas"
   ]
  },
  {
   "cell_type": "code",
   "execution_count": 48,
   "metadata": {},
   "outputs": [
    {
     "data": {
      "image/png": "[encoded data removed]",
      "text/plain": [
       "<Figure size 1080x720 with 1 Axes>"
      ]
     },
     "metadata": {
      "needs_background": "light"
     },
     "output_type": "display_data"
    }
   ],
   "source": [
    "plt.figure(figsize=(15,10))\n",
    "sns.barplot(y= album_popularity.index, x='popularity', data=album_popularity);"
   ]
  }
 ],
 "metadata": {
  "interpreter": {
   "hash": "9df72549cec875d35faaa50875d444b10c11452b268975a17c9dc6870f43870f"
  },
  "kernelspec": {
   "display_name": "Python 3.9.7 ('base')",
   "language": "python",
   "name": "python3"
  },
  "language_info": {
   "codemirror_mode": {
    "name": "ipython",
    "version": 3
   },
   "file_extension": ".py",
   "mimetype": "text/x-python",
   "name": "python",
   "nbconvert_exporter": "python",
   "pygments_lexer": "ipython3",
   "version": "3.9.7"
  },
  "orig_nbformat": 4
 },
 "nbformat": 4,
 "nbformat_minor": 2
}
